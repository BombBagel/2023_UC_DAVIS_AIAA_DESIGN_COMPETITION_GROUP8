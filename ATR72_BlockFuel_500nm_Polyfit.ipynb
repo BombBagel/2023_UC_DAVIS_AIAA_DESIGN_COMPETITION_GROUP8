{
 "cells": [
  {
   "cell_type": "code",
   "execution_count": 2,
   "metadata": {},
   "outputs": [],
   "source": [
    "import numpy as np\n",
    "import matplotlib as plt"
   ]
  },
  {
   "cell_type": "code",
   "execution_count": 13,
   "metadata": {},
   "outputs": [
    {
     "name": "stdout",
     "output_type": "stream",
     "text": [
      "[  2.455      132.83333333]\n"
     ]
    },
    {
     "data": {
      "text/plain": [
       "1360.333333333333"
      ]
     },
     "execution_count": 13,
     "metadata": {},
     "output_type": "execute_result"
    }
   ],
   "source": [
    "route = [200, 300, 400] #nm\n",
    "blockfuel = [624, 869, 1115] #kg\n",
    "blkfl = np.polyfit(route, blockfuel,1)\n",
    "print(blkfl)\n",
    "x = 500 #nm\n",
    "blkfl500 = blkfl[0]*x + blkfl[1]\n",
    "blkfl500"
   ]
  }
 ],
 "metadata": {
  "kernelspec": {
   "display_name": "Python 3.9.12 ('base')",
   "language": "python",
   "name": "python3"
  },
  "language_info": {
   "codemirror_mode": {
    "name": "ipython",
    "version": 3
   },
   "file_extension": ".py",
   "mimetype": "text/x-python",
   "name": "python",
   "nbconvert_exporter": "python",
   "pygments_lexer": "ipython3",
   "version": "3.9.12"
  },
  "orig_nbformat": 4,
  "vscode": {
   "interpreter": {
    "hash": "ecc2b0729a9e6013ec79778ed930fbf69bc77d4c5403ef40c654b39dad0f4e02"
   }
  }
 },
 "nbformat": 4,
 "nbformat_minor": 2
}
