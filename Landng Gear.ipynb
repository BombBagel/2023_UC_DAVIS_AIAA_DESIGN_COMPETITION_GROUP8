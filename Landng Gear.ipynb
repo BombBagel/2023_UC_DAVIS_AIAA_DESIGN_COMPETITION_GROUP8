{
 "cells": [
  {
   "cell_type": "code",
   "execution_count": 27,
   "metadata": {},
   "outputs": [
    {
     "name": "stdout",
     "output_type": "stream",
     "text": [
      "3.339999999999998\n",
      "19.814195496155666\n",
      "18.043690511976127\n",
      "18.98669041483448\n",
      "77.95392239442297\n"
     ]
    }
   ],
   "source": [
    "#### Landing Gear Disposition ####\n",
    "import numpy as np\n",
    "\n",
    "np.arctan\n",
    "\n",
    "# Aircraft Related Inputs (See Image on Overleaf)\n",
    "L = 83.0\n",
    "Y = 4.50\n",
    "X_fcg = 37.72\n",
    "X_acg = 38.05\n",
    "b = 111.20\n",
    "\n",
    "\n",
    "# Landing Gear Related Variables\n",
    "Wfm = 3.01\n",
    "Wam = Wfm + (X_acg-X_fcg)\n",
    "print(Wam)\n",
    "H = 9.27\n",
    "T = 5\n",
    "Wn = 5.5\n",
    "\n",
    "\n",
    "theta_TB = np.arctan(Wam / H) * (180/np.pi)\n",
    "theta_LOF = np.arctan((H+Y) / (L - (X_fcg + Wfm))) * (180/np.pi)\n",
    "phi = np.arctan((H + 2*Y) / ((b/2) - (T/2))) * (180/np.pi)\n",
    "A1 = np.arctan((T/2) / (X_acg+Wfm))\n",
    "D = np.sin(A1) * (X_acg-Wn)\n",
    "psi = np.arctan(H / D) * (180/np.pi)\n",
    "\n",
    "print(theta_TB)\n",
    "print(theta_LOF)\n",
    "print(phi)\n",
    "print(psi)"
   ]
  },
  {
   "cell_type": "code",
   "execution_count": 8,
   "metadata": {},
   "outputs": [
    {
     "name": "stderr",
     "output_type": "stream",
     "text": [
      "C:\\Users\\boysenbeary\\AppData\\Local\\Temp\\ipykernel_9460\\3779239694.py:26: RuntimeWarning: divide by zero encountered in double_scalars\n",
      "  theta_TB_guess = np.arctan(Wam / H) * (180/np.pi)\n"
     ]
    },
    {
     "ename": "TypeError",
     "evalue": "fsolve: there is a mismatch between the input and output shape of the 'func' argument 'equations'.Shape should be (3,) but it is (4,).",
     "output_type": "error",
     "traceback": [
      "\u001b[1;31m---------------------------------------------------------------------------\u001b[0m",
      "\u001b[1;31mTypeError\u001b[0m                                 Traceback (most recent call last)",
      "\u001b[1;32mc:\\Users\\boysenbeary\\Downloads\\Landng Gear.ipynb Cell 4\u001b[0m in \u001b[0;36m<cell line: 47>\u001b[1;34m()\u001b[0m\n\u001b[0;32m     <a href='vscode-notebook-cell:/c%3A/Users/boysenbeary/Downloads/Landng%20Gear.ipynb#W3sZmlsZQ%3D%3D?line=43'>44</a>\u001b[0m initial_guess \u001b[39m=\u001b[39m [\u001b[39m0.0\u001b[39m, \u001b[39m0.0\u001b[39m, \u001b[39m0.0\u001b[39m]\n\u001b[0;32m     <a href='vscode-notebook-cell:/c%3A/Users/boysenbeary/Downloads/Landng%20Gear.ipynb#W3sZmlsZQ%3D%3D?line=45'>46</a>\u001b[0m \u001b[39m# Solve for Wfm and H\u001b[39;00m\n\u001b[1;32m---> <a href='vscode-notebook-cell:/c%3A/Users/boysenbeary/Downloads/Landng%20Gear.ipynb#W3sZmlsZQ%3D%3D?line=46'>47</a>\u001b[0m result \u001b[39m=\u001b[39m fsolve(equations, initial_guess)\n\u001b[0;32m     <a href='vscode-notebook-cell:/c%3A/Users/boysenbeary/Downloads/Landng%20Gear.ipynb#W3sZmlsZQ%3D%3D?line=48'>49</a>\u001b[0m Wfm \u001b[39m=\u001b[39m result[\u001b[39m0\u001b[39m]\n\u001b[0;32m     <a href='vscode-notebook-cell:/c%3A/Users/boysenbeary/Downloads/Landng%20Gear.ipynb#W3sZmlsZQ%3D%3D?line=49'>50</a>\u001b[0m H \u001b[39m=\u001b[39m result[\u001b[39m1\u001b[39m]\n",
      "File \u001b[1;32mc:\\Users\\boysenbeary\\anaconda3\\lib\\site-packages\\scipy\\optimize\\minpack.py:160\u001b[0m, in \u001b[0;36mfsolve\u001b[1;34m(func, x0, args, fprime, full_output, col_deriv, xtol, maxfev, band, epsfcn, factor, diag)\u001b[0m\n\u001b[0;32m     49\u001b[0m \u001b[39m\"\"\"\u001b[39;00m\n\u001b[0;32m     50\u001b[0m \u001b[39mFind the roots of a function.\u001b[39;00m\n\u001b[0;32m     51\u001b[0m \n\u001b[1;32m   (...)\u001b[0m\n\u001b[0;32m    150\u001b[0m \n\u001b[0;32m    151\u001b[0m \u001b[39m\"\"\"\u001b[39;00m\n\u001b[0;32m    152\u001b[0m options \u001b[39m=\u001b[39m {\u001b[39m'\u001b[39m\u001b[39mcol_deriv\u001b[39m\u001b[39m'\u001b[39m: col_deriv,\n\u001b[0;32m    153\u001b[0m            \u001b[39m'\u001b[39m\u001b[39mxtol\u001b[39m\u001b[39m'\u001b[39m: xtol,\n\u001b[0;32m    154\u001b[0m            \u001b[39m'\u001b[39m\u001b[39mmaxfev\u001b[39m\u001b[39m'\u001b[39m: maxfev,\n\u001b[1;32m   (...)\u001b[0m\n\u001b[0;32m    157\u001b[0m            \u001b[39m'\u001b[39m\u001b[39mfactor\u001b[39m\u001b[39m'\u001b[39m: factor,\n\u001b[0;32m    158\u001b[0m            \u001b[39m'\u001b[39m\u001b[39mdiag\u001b[39m\u001b[39m'\u001b[39m: diag}\n\u001b[1;32m--> 160\u001b[0m res \u001b[39m=\u001b[39m _root_hybr(func, x0, args, jac\u001b[39m=\u001b[39mfprime, \u001b[39m*\u001b[39m\u001b[39m*\u001b[39moptions)\n\u001b[0;32m    161\u001b[0m \u001b[39mif\u001b[39;00m full_output:\n\u001b[0;32m    162\u001b[0m     x \u001b[39m=\u001b[39m res[\u001b[39m'\u001b[39m\u001b[39mx\u001b[39m\u001b[39m'\u001b[39m]\n",
      "File \u001b[1;32mc:\\Users\\boysenbeary\\anaconda3\\lib\\site-packages\\scipy\\optimize\\minpack.py:226\u001b[0m, in \u001b[0;36m_root_hybr\u001b[1;34m(func, x0, args, jac, col_deriv, xtol, maxfev, band, eps, factor, diag, **unknown_options)\u001b[0m\n\u001b[0;32m    224\u001b[0m \u001b[39mif\u001b[39;00m \u001b[39mnot\u001b[39;00m \u001b[39misinstance\u001b[39m(args, \u001b[39mtuple\u001b[39m):\n\u001b[0;32m    225\u001b[0m     args \u001b[39m=\u001b[39m (args,)\n\u001b[1;32m--> 226\u001b[0m shape, dtype \u001b[39m=\u001b[39m _check_func(\u001b[39m'\u001b[39;49m\u001b[39mfsolve\u001b[39;49m\u001b[39m'\u001b[39;49m, \u001b[39m'\u001b[39;49m\u001b[39mfunc\u001b[39;49m\u001b[39m'\u001b[39;49m, func, x0, args, n, (n,))\n\u001b[0;32m    227\u001b[0m \u001b[39mif\u001b[39;00m epsfcn \u001b[39mis\u001b[39;00m \u001b[39mNone\u001b[39;00m:\n\u001b[0;32m    228\u001b[0m     epsfcn \u001b[39m=\u001b[39m finfo(dtype)\u001b[39m.\u001b[39meps\n",
      "File \u001b[1;32mc:\\Users\\boysenbeary\\anaconda3\\lib\\site-packages\\scipy\\optimize\\minpack.py:38\u001b[0m, in \u001b[0;36m_check_func\u001b[1;34m(checker, argname, thefunc, x0, args, numinputs, output_shape)\u001b[0m\n\u001b[0;32m     36\u001b[0m             msg \u001b[39m+\u001b[39m\u001b[39m=\u001b[39m \u001b[39m\"\u001b[39m\u001b[39m.\u001b[39m\u001b[39m\"\u001b[39m\n\u001b[0;32m     37\u001b[0m         msg \u001b[39m+\u001b[39m\u001b[39m=\u001b[39m \u001b[39m'\u001b[39m\u001b[39mShape should be \u001b[39m\u001b[39m%s\u001b[39;00m\u001b[39m but it is \u001b[39m\u001b[39m%s\u001b[39;00m\u001b[39m.\u001b[39m\u001b[39m'\u001b[39m \u001b[39m%\u001b[39m (output_shape, shape(res))\n\u001b[1;32m---> 38\u001b[0m         \u001b[39mraise\u001b[39;00m \u001b[39mTypeError\u001b[39;00m(msg)\n\u001b[0;32m     39\u001b[0m \u001b[39mif\u001b[39;00m issubdtype(res\u001b[39m.\u001b[39mdtype, inexact):\n\u001b[0;32m     40\u001b[0m     dt \u001b[39m=\u001b[39m res\u001b[39m.\u001b[39mdtype\n",
      "\u001b[1;31mTypeError\u001b[0m: fsolve: there is a mismatch between the input and output shape of the 'func' argument 'equations'.Shape should be (3,) but it is (4,)."
     ]
    }
   ],
   "source": [
    "import numpy as np\n",
    "from scipy.optimize import fsolve\n",
    "\n",
    "# Aircraft Related Inputs (See Image on Overleaf)\n",
    "L = 83.0 #ft\n",
    "Y = 4.50 #ft\n",
    "X_fcg = 37.72 #ft\n",
    "X_acg = 38.05 #ft\n",
    "b = 111.20 #ft\n",
    "\n",
    "# Assumed Inputs\n",
    "Wn = 5.5 #ft\n",
    "\n",
    "# Safety Related Inputs (degrees)\n",
    "theta_TB = 18\n",
    "theta_LOF = 18\n",
    "phi = 6\n",
    "psi = 50\n",
    "\n",
    "# Function to solve for theta_TB and theta_LOF\n",
    "def equations(vars):\n",
    "    Wfm, H, T = vars\n",
    "\n",
    "    Wam = Wfm + (X_acg - X_fcg)\n",
    "\n",
    "    theta_TB_guess = np.arctan(Wam / H) * (180/np.pi)\n",
    "\n",
    "    theta_LOF_guess = np.arctan((H + Y) / (L - (X_fcg + Wfm))) * (180/np.pi)\n",
    "    \n",
    "    phi_guess = np.arctan(H / ((b/2) + (T/2))) * (180/np.pi)\n",
    "\n",
    "    A1 = np.arctan((T/2) / (X_acg + Wfm))\n",
    "    D = np.sin(A1) * (X_acg - Wn)\n",
    "    psi_guess = np.arctan(H / D) * (180/np.pi)\n",
    "    \n",
    "    eq1 = theta_TB_guess - theta_TB\n",
    "    eq2 = theta_LOF_guess - theta_LOF\n",
    "    eq3 = phi_guess - phi\n",
    "    eq4 = psi_guess - psi\n",
    "\n",
    "    return [eq1, eq2, eq3, eq4]\n",
    "\n",
    "# Initial guess for Wfm and H and T\n",
    "initial_guess = [0.0, 0.0, 0.0]\n",
    "\n",
    "# Solve for Wfm and H\n",
    "result = fsolve(equations, initial_guess)\n",
    "\n",
    "Wfm = result[0]\n",
    "H = result[1]\n",
    "T = result[2]\n",
    "\n",
    "print(\"Wfm:\", Wfm)\n",
    "print(\"H:\", H)\n",
    "print(\"T:\", T)\n",
    "\n"
   ]
  },
  {
   "cell_type": "code",
   "execution_count": 62,
   "metadata": {},
   "outputs": [
    {
     "name": "stdout",
     "output_type": "stream",
     "text": [
      "Wfm: 1.9429448226321255\n",
      "H: 7.926700604484225\n",
      "T: 14.378785755165476\n",
      "Ground Clearance Angle (Requires >5 deg): 19.272107317414438\n"
     ]
    }
   ],
   "source": [
    "import numpy as np\n",
    "from scipy.optimize import fsolve\n",
    "\n",
    "# Aircraft Related Inputs (See Image on Overleaf)\n",
    "L = 83.0 #ft\n",
    "Y = 4.50 #ft\n",
    "X_fcg = 37.72 #ft\n",
    "X_acg = 38.05 #ft\n",
    "b = 111.20 #ft\n",
    "\n",
    "# Assumed Inputs\n",
    "Wn = 5.5 #ft\n",
    "\n",
    "# Safety Related Inputs (degrees)\n",
    "theta_TB = 16\n",
    "theta_LOF = 16\n",
    "phi = 6\n",
    "psi = 54\n",
    "\n",
    "# Function to solve for Wfm, H, and T\n",
    "def equations(vars):\n",
    "    Wfm, H, T = vars\n",
    "    Wam = Wfm + (X_acg-X_fcg)\n",
    "    theta_TB_deg = np.arctan(Wam / H) * (180/np.pi)\n",
    "    theta_LOF_deg = np.arctan((H+Y) / (L - (X_fcg + Wfm))) * (180/np.pi)\n",
    "    #phi_deg = np.arctan((H + 2*Y) / ((b/2) - (T/2))) * (180/np.pi)\n",
    "    A1 = np.arctan((T/2) / (X_acg + Wfm))\n",
    "    D = np.sin(A1) * (X_acg - Wn)\n",
    "    psi_deg = np.arctan(H / D) * (180/np.pi)\n",
    "    eq1 = theta_TB_deg - theta_TB\n",
    "    eq2 = theta_LOF_deg - theta_LOF\n",
    "    #eq3 = phi_deg - phi\n",
    "    eq4 = psi_deg - psi\n",
    "    return [eq1, eq2, eq4]\n",
    "\n",
    "# Initial guess for Wfm, H, and T\n",
    "initial_guess = [2, 8, 5]\n",
    "\n",
    "# Solve for Wfm, H, and T\n",
    "Wfm, H, T  = fsolve(equations, initial_guess)\n",
    "\n",
    "print(\"Wfm:\", Wfm)\n",
    "print(\"H:\", H)\n",
    "print(\"T:\", T)\n",
    "\n",
    "print(\"Ground Clearance Angle (Requires >5 deg):\", np.arctan((H + 2*Y) / ((b/2) - (T/2))) * (180/np.pi))\n"
   ]
  }
 ],
 "metadata": {
  "kernelspec": {
   "display_name": "Python 3.9.12 ('base')",
   "language": "python",
   "name": "python3"
  },
  "language_info": {
   "codemirror_mode": {
    "name": "ipython",
    "version": 3
   },
   "file_extension": ".py",
   "mimetype": "text/x-python",
   "name": "python",
   "nbconvert_exporter": "python",
   "pygments_lexer": "ipython3",
   "version": "3.9.12"
  },
  "orig_nbformat": 4,
  "vscode": {
   "interpreter": {
    "hash": "ecc2b0729a9e6013ec79778ed930fbf69bc77d4c5403ef40c654b39dad0f4e02"
   }
  }
 },
 "nbformat": 4,
 "nbformat_minor": 2
}
